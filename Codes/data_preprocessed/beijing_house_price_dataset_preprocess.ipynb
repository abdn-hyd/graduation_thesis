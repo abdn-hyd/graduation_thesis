{
 "cells": [
  {
   "cell_type": "markdown",
   "metadata": {},
   "source": [
    "# 1. Basic preprocessing"
   ]
  },
  {
   "cell_type": "code",
   "execution_count": 1,
   "metadata": {},
   "outputs": [],
   "source": [
    "import pandas as pd\n",
    "import numpy as np\n",
    "import seaborn as sns\n",
    "import matplotlib.pyplot as plt"
   ]
  },
  {
   "cell_type": "code",
   "execution_count": 2,
   "metadata": {},
   "outputs": [
    {
     "data": {
      "text/plain": [
       "26"
      ]
     },
     "execution_count": 2,
     "metadata": {},
     "output_type": "execute_result"
    }
   ],
   "source": [
    "path = \"../../Datasets/Beijing_House_Price_Dataset/beijing.csv\"\n",
    "df = pd.read_csv(path, encoding=\"gbk\", low_memory=False)\n",
    "len(df.columns)"
   ]
  },
  {
   "cell_type": "code",
   "execution_count": 3,
   "metadata": {},
   "outputs": [
    {
     "data": {
      "text/html": [
       "<div>\n",
       "<style scoped>\n",
       "    .dataframe tbody tr th:only-of-type {\n",
       "        vertical-align: middle;\n",
       "    }\n",
       "\n",
       "    .dataframe tbody tr th {\n",
       "        vertical-align: top;\n",
       "    }\n",
       "\n",
       "    .dataframe thead th {\n",
       "        text-align: right;\n",
       "    }\n",
       "</style>\n",
       "<table border=\"1\" class=\"dataframe\">\n",
       "  <thead>\n",
       "    <tr style=\"text-align: right;\">\n",
       "      <th></th>\n",
       "      <th>Lng</th>\n",
       "      <th>Lat</th>\n",
       "      <th>Cid</th>\n",
       "      <th>DOM</th>\n",
       "      <th>followers</th>\n",
       "      <th>totalPrice</th>\n",
       "      <th>price</th>\n",
       "      <th>square</th>\n",
       "      <th>kitchen</th>\n",
       "      <th>buildingType</th>\n",
       "      <th>renovationCondition</th>\n",
       "      <th>buildingStructure</th>\n",
       "      <th>ladderRatio</th>\n",
       "      <th>elevator</th>\n",
       "      <th>fiveYearsProperty</th>\n",
       "      <th>subway</th>\n",
       "      <th>district</th>\n",
       "      <th>communityAverage</th>\n",
       "    </tr>\n",
       "  </thead>\n",
       "  <tbody>\n",
       "    <tr>\n",
       "      <th>count</th>\n",
       "      <td>318851.000000</td>\n",
       "      <td>318851.000000</td>\n",
       "      <td>3.188510e+05</td>\n",
       "      <td>160874.000000</td>\n",
       "      <td>318851.000000</td>\n",
       "      <td>318851.000000</td>\n",
       "      <td>318851.000000</td>\n",
       "      <td>318851.000000</td>\n",
       "      <td>318851.000000</td>\n",
       "      <td>316830.000000</td>\n",
       "      <td>318851.000000</td>\n",
       "      <td>318851.000000</td>\n",
       "      <td>3.188510e+05</td>\n",
       "      <td>318819.000000</td>\n",
       "      <td>318819.000000</td>\n",
       "      <td>318819.000000</td>\n",
       "      <td>318851.000000</td>\n",
       "      <td>318388.000000</td>\n",
       "    </tr>\n",
       "    <tr>\n",
       "      <th>mean</th>\n",
       "      <td>116.418459</td>\n",
       "      <td>39.949591</td>\n",
       "      <td>1.129113e+12</td>\n",
       "      <td>28.822339</td>\n",
       "      <td>16.731508</td>\n",
       "      <td>349.030201</td>\n",
       "      <td>43530.436379</td>\n",
       "      <td>83.240597</td>\n",
       "      <td>0.994599</td>\n",
       "      <td>3.009790</td>\n",
       "      <td>2.606330</td>\n",
       "      <td>4.451026</td>\n",
       "      <td>6.316486e+01</td>\n",
       "      <td>0.577055</td>\n",
       "      <td>0.645601</td>\n",
       "      <td>0.601112</td>\n",
       "      <td>6.763564</td>\n",
       "      <td>63682.446305</td>\n",
       "    </tr>\n",
       "    <tr>\n",
       "      <th>std</th>\n",
       "      <td>0.112054</td>\n",
       "      <td>0.091983</td>\n",
       "      <td>2.363447e+12</td>\n",
       "      <td>50.237343</td>\n",
       "      <td>34.209185</td>\n",
       "      <td>230.780778</td>\n",
       "      <td>21709.024204</td>\n",
       "      <td>37.234661</td>\n",
       "      <td>0.109609</td>\n",
       "      <td>1.269857</td>\n",
       "      <td>1.311739</td>\n",
       "      <td>1.901753</td>\n",
       "      <td>2.506851e+04</td>\n",
       "      <td>0.494028</td>\n",
       "      <td>0.478331</td>\n",
       "      <td>0.489670</td>\n",
       "      <td>2.812616</td>\n",
       "      <td>22329.215447</td>\n",
       "    </tr>\n",
       "    <tr>\n",
       "      <th>min</th>\n",
       "      <td>116.072514</td>\n",
       "      <td>39.627030</td>\n",
       "      <td>1.111027e+12</td>\n",
       "      <td>1.000000</td>\n",
       "      <td>0.000000</td>\n",
       "      <td>0.100000</td>\n",
       "      <td>1.000000</td>\n",
       "      <td>6.900000</td>\n",
       "      <td>0.000000</td>\n",
       "      <td>0.048000</td>\n",
       "      <td>0.000000</td>\n",
       "      <td>0.000000</td>\n",
       "      <td>0.000000e+00</td>\n",
       "      <td>0.000000</td>\n",
       "      <td>0.000000</td>\n",
       "      <td>0.000000</td>\n",
       "      <td>1.000000</td>\n",
       "      <td>10847.000000</td>\n",
       "    </tr>\n",
       "    <tr>\n",
       "      <th>25%</th>\n",
       "      <td>116.344985</td>\n",
       "      <td>39.893200</td>\n",
       "      <td>1.111027e+12</td>\n",
       "      <td>1.000000</td>\n",
       "      <td>0.000000</td>\n",
       "      <td>205.000000</td>\n",
       "      <td>28050.000000</td>\n",
       "      <td>57.900000</td>\n",
       "      <td>1.000000</td>\n",
       "      <td>1.000000</td>\n",
       "      <td>1.000000</td>\n",
       "      <td>2.000000</td>\n",
       "      <td>2.500000e-01</td>\n",
       "      <td>0.000000</td>\n",
       "      <td>0.000000</td>\n",
       "      <td>0.000000</td>\n",
       "      <td>6.000000</td>\n",
       "      <td>46339.000000</td>\n",
       "    </tr>\n",
       "    <tr>\n",
       "      <th>50%</th>\n",
       "      <td>116.416780</td>\n",
       "      <td>39.934527</td>\n",
       "      <td>1.111027e+12</td>\n",
       "      <td>6.000000</td>\n",
       "      <td>5.000000</td>\n",
       "      <td>294.000000</td>\n",
       "      <td>38737.000000</td>\n",
       "      <td>74.260000</td>\n",
       "      <td>1.000000</td>\n",
       "      <td>4.000000</td>\n",
       "      <td>3.000000</td>\n",
       "      <td>6.000000</td>\n",
       "      <td>3.330000e-01</td>\n",
       "      <td>1.000000</td>\n",
       "      <td>1.000000</td>\n",
       "      <td>1.000000</td>\n",
       "      <td>7.000000</td>\n",
       "      <td>59015.000000</td>\n",
       "    </tr>\n",
       "    <tr>\n",
       "      <th>75%</th>\n",
       "      <td>116.477581</td>\n",
       "      <td>40.003018</td>\n",
       "      <td>1.111027e+12</td>\n",
       "      <td>37.000000</td>\n",
       "      <td>18.000000</td>\n",
       "      <td>425.500000</td>\n",
       "      <td>53819.500000</td>\n",
       "      <td>98.710000</td>\n",
       "      <td>1.000000</td>\n",
       "      <td>4.000000</td>\n",
       "      <td>4.000000</td>\n",
       "      <td>6.000000</td>\n",
       "      <td>5.000000e-01</td>\n",
       "      <td>1.000000</td>\n",
       "      <td>1.000000</td>\n",
       "      <td>1.000000</td>\n",
       "      <td>8.000000</td>\n",
       "      <td>75950.000000</td>\n",
       "    </tr>\n",
       "    <tr>\n",
       "      <th>max</th>\n",
       "      <td>116.732378</td>\n",
       "      <td>40.252758</td>\n",
       "      <td>1.114620e+15</td>\n",
       "      <td>1677.000000</td>\n",
       "      <td>1143.000000</td>\n",
       "      <td>18130.000000</td>\n",
       "      <td>156250.000000</td>\n",
       "      <td>1745.500000</td>\n",
       "      <td>4.000000</td>\n",
       "      <td>4.000000</td>\n",
       "      <td>4.000000</td>\n",
       "      <td>6.000000</td>\n",
       "      <td>1.000940e+07</td>\n",
       "      <td>1.000000</td>\n",
       "      <td>1.000000</td>\n",
       "      <td>1.000000</td>\n",
       "      <td>13.000000</td>\n",
       "      <td>183109.000000</td>\n",
       "    </tr>\n",
       "  </tbody>\n",
       "</table>\n",
       "</div>"
      ],
      "text/plain": [
       "                 Lng            Lat           Cid            DOM  \\\n",
       "count  318851.000000  318851.000000  3.188510e+05  160874.000000   \n",
       "mean      116.418459      39.949591  1.129113e+12      28.822339   \n",
       "std         0.112054       0.091983  2.363447e+12      50.237343   \n",
       "min       116.072514      39.627030  1.111027e+12       1.000000   \n",
       "25%       116.344985      39.893200  1.111027e+12       1.000000   \n",
       "50%       116.416780      39.934527  1.111027e+12       6.000000   \n",
       "75%       116.477581      40.003018  1.111027e+12      37.000000   \n",
       "max       116.732378      40.252758  1.114620e+15    1677.000000   \n",
       "\n",
       "           followers     totalPrice          price         square  \\\n",
       "count  318851.000000  318851.000000  318851.000000  318851.000000   \n",
       "mean       16.731508     349.030201   43530.436379      83.240597   \n",
       "std        34.209185     230.780778   21709.024204      37.234661   \n",
       "min         0.000000       0.100000       1.000000       6.900000   \n",
       "25%         0.000000     205.000000   28050.000000      57.900000   \n",
       "50%         5.000000     294.000000   38737.000000      74.260000   \n",
       "75%        18.000000     425.500000   53819.500000      98.710000   \n",
       "max      1143.000000   18130.000000  156250.000000    1745.500000   \n",
       "\n",
       "             kitchen   buildingType  renovationCondition  buildingStructure  \\\n",
       "count  318851.000000  316830.000000        318851.000000      318851.000000   \n",
       "mean        0.994599       3.009790             2.606330           4.451026   \n",
       "std         0.109609       1.269857             1.311739           1.901753   \n",
       "min         0.000000       0.048000             0.000000           0.000000   \n",
       "25%         1.000000       1.000000             1.000000           2.000000   \n",
       "50%         1.000000       4.000000             3.000000           6.000000   \n",
       "75%         1.000000       4.000000             4.000000           6.000000   \n",
       "max         4.000000       4.000000             4.000000           6.000000   \n",
       "\n",
       "        ladderRatio       elevator  fiveYearsProperty         subway  \\\n",
       "count  3.188510e+05  318819.000000      318819.000000  318819.000000   \n",
       "mean   6.316486e+01       0.577055           0.645601       0.601112   \n",
       "std    2.506851e+04       0.494028           0.478331       0.489670   \n",
       "min    0.000000e+00       0.000000           0.000000       0.000000   \n",
       "25%    2.500000e-01       0.000000           0.000000       0.000000   \n",
       "50%    3.330000e-01       1.000000           1.000000       1.000000   \n",
       "75%    5.000000e-01       1.000000           1.000000       1.000000   \n",
       "max    1.000940e+07       1.000000           1.000000       1.000000   \n",
       "\n",
       "            district  communityAverage  \n",
       "count  318851.000000     318388.000000  \n",
       "mean        6.763564      63682.446305  \n",
       "std         2.812616      22329.215447  \n",
       "min         1.000000      10847.000000  \n",
       "25%         6.000000      46339.000000  \n",
       "50%         7.000000      59015.000000  \n",
       "75%         8.000000      75950.000000  \n",
       "max        13.000000     183109.000000  "
      ]
     },
     "execution_count": 3,
     "metadata": {},
     "output_type": "execute_result"
    }
   ],
   "source": [
    "df.describe()"
   ]
  },
  {
   "cell_type": "code",
   "execution_count": 4,
   "metadata": {},
   "outputs": [
    {
     "data": {
      "text/plain": [
       "url                         0\n",
       "id                          0\n",
       "Lng                         0\n",
       "Lat                         0\n",
       "Cid                         0\n",
       "tradeTime                   0\n",
       "DOM                    157977\n",
       "followers                   0\n",
       "totalPrice                  0\n",
       "price                       0\n",
       "square                      0\n",
       "livingRoom                  0\n",
       "drawingRoom                 0\n",
       "kitchen                     0\n",
       "bathRoom                    0\n",
       "floor                       0\n",
       "buildingType             2021\n",
       "constructionTime            0\n",
       "renovationCondition         0\n",
       "buildingStructure           0\n",
       "ladderRatio                 0\n",
       "elevator                   32\n",
       "fiveYearsProperty          32\n",
       "subway                     32\n",
       "district                    0\n",
       "communityAverage          463\n",
       "dtype: int64"
      ]
     },
     "execution_count": 4,
     "metadata": {},
     "output_type": "execute_result"
    }
   ],
   "source": [
    "df.isnull().sum()"
   ]
  },
  {
   "cell_type": "code",
   "execution_count": 5,
   "metadata": {},
   "outputs": [],
   "source": [
    "df.drop(['DOM','url','Cid','id'],axis=1,inplace=True)"
   ]
  },
  {
   "cell_type": "code",
   "execution_count": 6,
   "metadata": {},
   "outputs": [
    {
     "name": "stdout",
     "output_type": "stream",
     "text": [
      "tradeTime: ['2016-08-09' '2016-07-28' '2016-12-11' ... '2012-01-28' '2011-01-30'\n",
      " '2009-01-11']\n",
      "\n",
      "livingRoom: ['2' '3' '1' '4' '5' '6' '9' '0' '7' '8' '#NAME?']\n",
      "\n",
      "drawingRoom: ['1' '2' '0' '4' '3' '5' '中 14' '中 15' '中 16' '中 6' '高 14' '顶 6' '低 6'\n",
      " '低 16' '高 12' '低 15' '高 6' '底 28' '底 11' '中 24' '底 20' '中 22']\n",
      "\n",
      "bathRoom: ['1' '2' '3' '0' '4' '5' '6' '7' '2006' '2003' '1990' '2000' '1996' '2005'\n",
      " '2011' '未知' '1994' '2004']\n",
      "\n",
      "floor: ['高 26' '高 22' '中 4' '底 21' '中 6' '中 8' '高 6' '高 10' '中 23' '底 11' '底 3'\n",
      " '高 24' '低 23' '中 19' '高 18' '低 25' '中 12' '中 14' '中 30' '中 27' '中 5'\n",
      " '低 18' '底 28' '中 11' '低 9' '顶 7' '顶 27' '低 6' '中 17' '顶 6' '中 24' '中 15'\n",
      " '底 5' '中 29' '顶 19' '顶 5' '中 9' '低 22' '顶 18' '低 16' '高 13' '高 9' '高 17'\n",
      " '底 6' '中 28' '低 26' '底 15' '高 16' '底 2' '低 7' '中 13' '低 33' '底 14' '高 15'\n",
      " '底 4' '顶 11' '中 32' '顶 16' '底 18' '顶 17' '低 14' '低 10' '底 20' '高 12'\n",
      " '低 31' '低 30' '低 19' '低 12' '中 10' '中 16' '顶 20' '底 19' '中 31' '低 13'\n",
      " '底 10' '高 25' '中 21' '中 20' '高 20' '低 21' '低 24' '顶 4' '高 21' '高 7'\n",
      " '中 22' '底 1' '中 7' '底 8' '顶 15' '中 18' '高 28' '顶 14' '顶 13' '低 20' '底 26'\n",
      " '低 17' '顶 24' '底 23' '顶 3' '顶 21' '底 24' '高 30' '高 11' '底 25' '高 27'\n",
      " '底 9' '低 11' '低 28' '低 15' '顶 26' '低 34' '顶 12' '中 25' '高 8' '底 17'\n",
      " '高 32' '高 19' '底 7' '顶 28' '顶 9' '高 31' '中 26' '顶 2' '顶 8' '底 32' '中 42'\n",
      " '底 30' '低 32' '底 16' '低 3' '底 22' '高 14' '高 23' '底 27' '底 13' '低 27'\n",
      " '顶 23' '低 29' '顶 22' '高 29' '中 34' '顶 25' '高 34' '顶 10' '低 37' '底 12'\n",
      " '未知 6' '顶 32' '低 42' '顶 30' '底 33' '高 42' '低 8' '高 33' '中 33' '顶 29'\n",
      " '底 29' '未知 15' '高 37' '低 36' '低 35' '顶 34' '高 36' '中 37' '中 35' '底 31'\n",
      " '未知 12' '顶 31' '低 63' '未知 21' '底 34' '中 57' '顶 33' '钢混结构' '混合结构' '未知 11'\n",
      " '未知 7' '未知 10' '未知 18' '未知 8' '未知 14' '未知 4' '未知 5' '未知 3' '未知 27'\n",
      " '未知 25' '未知 20' '未知 26' '未知 9' '未知 22' '未知 23' '未知 16' '未知 19' '未知 28'\n",
      " '中 36' '未知 17' '未知 13' '低 2' '未知 29' '未知 24' '未知 30' '未知 31' '低 5']\n",
      "\n",
      "constructionTime: ['2005' '2004' '2008' '1960' '1997' '2009' '2006' '1991' '2001' '1990'\n",
      " '2011' '2000' '1998' '2010' '1996' '1993' '2002' '未知' '2012' '1989'\n",
      " '2003' '2007' '1994' '1984' '1992' '2014' '1985' '2013' '1999' '1979'\n",
      " '1981' '1976' '1982' '1975' '1983' '1986' '1995' '1965' '1988' '1987'\n",
      " '2015' '1955' '1980' '1978' '1958' '1970' '1956' '1977' '1964' '1963'\n",
      " '1967' '2016' '1974' '1973' '1959' '1954' '1962' '1966' '1957' '1944'\n",
      " '1972' '1971' '1953' '1968' '1961' '1950' '1952' '1933' '1969' '1' '0'\n",
      " '1906' '1934' '1914']\n",
      "\n"
     ]
    }
   ],
   "source": [
    "for row in range(df.shape[1]):\n",
    "    # find string object in csv file\n",
    "    if(df.iloc[:,row].dtype==\"O\"):\n",
    "        print(\"{}: {}\\n\".format(df.columns[row],df.iloc[:,row].unique()))"
   ]
  },
  {
   "cell_type": "code",
   "execution_count": 7,
   "metadata": {},
   "outputs": [],
   "source": [
    "from math import radians, cos, sin, asin, sqrt\n",
    "\n",
    "def distance(lat2, lon2,lat1=39.916668,lon1=116.383331): \n",
    "    lon1 = radians(lon1) \n",
    "    lon2 = radians(lon2) \n",
    "    lat1 = radians(lat1) \n",
    "    lat2 = radians(lat2) \n",
    "       \n",
    "    # Haversine formula  \n",
    "    dlon = lon2 - lon1  \n",
    "    dlat = lat2 - lat1 \n",
    "    a = sin(dlat / 2)**2 + cos(lat1) * cos(lat2) * sin(dlon / 2)**2\n",
    "  \n",
    "    c = 2 * asin(sqrt(a))  \n",
    "    r = 6371 # Radius of earth in kilometers\n",
    "    return(c * r) \n",
    "\n",
    "# drop \"未知\" data, add a new attribute distance\n",
    "df = df[df['constructionTime']!='未知']\n",
    "df['distance'] = df.apply(lambda x: distance (x['Lat'],x['Lng']),axis=1)"
   ]
  },
  {
   "cell_type": "code",
   "execution_count": 8,
   "metadata": {},
   "outputs": [],
   "source": [
    "df['constructionTime'] = df['constructionTime'].astype(int)\n",
    "# add age attribute\n",
    "df['age'] = 2025 - df['constructionTime']"
   ]
  },
  {
   "cell_type": "code",
   "execution_count": null,
   "metadata": {},
   "outputs": [],
   "source": [
    "# convert trade time into year+month, as the time interval size is one month\n",
    "df['tradeTime'] = pd.to_datetime(df['tradeTime'])\n",
    "# df['tradeTime'] = df['tradeTime'].dt.strftime('%Y-%m')\n",
    "df = df[df['tradeTime'] >= '2012-01-01']\n",
    "df = df.sort_values(by='tradeTime')\n",
    "df['month'] = df['tradeTime'].dt.year * 12 + df['tradeTime'].dt.month\n",
    "df['day'] = df['tradeTime'].dt.year * 356 + df['tradeTime'].dt.month * 30 + df['tradeTime'].dt.day"
   ]
  },
  {
   "cell_type": "code",
   "execution_count": 26,
   "metadata": {},
   "outputs": [
    {
     "data": {
      "text/plain": [
       "array([24145., 24146., 24147., 24148., 24149., 24150., 24151., 24152.,\n",
       "       24153., 24154., 24155., 24156., 24157., 24158., 24159., 24160.,\n",
       "       24161., 24162., 24163., 24164., 24165., 24166., 24167., 24168.,\n",
       "       24169., 24170., 24171., 24172., 24173., 24174., 24175., 24176.,\n",
       "       24177., 24178., 24179., 24180., 24181., 24182., 24183., 24184.,\n",
       "       24185., 24186., 24187., 24188., 24189., 24190., 24191., 24192.,\n",
       "       24193., 24194., 24195., 24196., 24197., 24198., 24199., 24200.,\n",
       "       24201., 24202., 24203., 24204., 24205., 24206., 24207., 24208.,\n",
       "       24209., 24210., 24211., 24212., 24213., 24214., 24215., 24216.,\n",
       "       24217.])"
      ]
     },
     "execution_count": 26,
     "metadata": {},
     "output_type": "execute_result"
    }
   ],
   "source": [
    "df[\"month\"].unique()"
   ]
  },
  {
   "cell_type": "code",
   "execution_count": 11,
   "metadata": {},
   "outputs": [],
   "source": [
    "# convert floor attribute\n",
    "\n",
    "lst_numeric = []\n",
    "lst_str = []\n",
    "for value in df['floor'].values:\n",
    "    value = value.split()\n",
    "    try:\n",
    "        numeric = (value[1])\n",
    "        string  = value[0]\n",
    "    except:\n",
    "        numeric = np.nan\n",
    "        string = np.nan\n",
    "    lst_numeric.append(numeric)\n",
    "    lst_str.append(string)\n",
    "\n",
    "# Replacing Chinese language words with English words.    \n",
    "lst_str_eng=[]\n",
    "for string in lst_str:\n",
    "    if string == '中':\n",
    "        lst_str_eng.append(string.replace('中','2'))\n",
    "    elif string == '高':\n",
    "        lst_str_eng.append(string.replace('高','3'))\n",
    "    elif string == '底':\n",
    "        lst_str_eng.append(string.replace('底','0'))\n",
    "    elif string == '低':\n",
    "        lst_str_eng.append(string.replace('低','1'))\n",
    "    elif string == '未知':\n",
    "        lst_str_eng.append(string.replace('未知','-1'))\n",
    "    elif string == '顶':\n",
    "        lst_str_eng.append(string.replace('顶','4'))\n",
    "\n",
    "df2 = pd.DataFrame(lst_str_eng,columns=['floorType'])\n",
    "df3 = pd.DataFrame(lst_numeric,columns=['floorHeight'])\n",
    "df = pd.concat([df,df2,df3],axis=1)\n",
    "\n",
    "# Deleting unknown values\n",
    "df = df[df['floorType']!='unknown']\n",
    "df.dropna(inplace=True)"
   ]
  },
  {
   "cell_type": "code",
   "execution_count": 12,
   "metadata": {},
   "outputs": [],
   "source": [
    "# drop floor column\n",
    "df.drop('floor', axis=1, inplace=True)"
   ]
  },
  {
   "cell_type": "code",
   "execution_count": 13,
   "metadata": {},
   "outputs": [],
   "source": [
    "# # Converting 'buildingType' feature to object or string type\n",
    "# df['buildingType'].replace(1,'Tower',inplace=True)\n",
    "# df['buildingType'].replace(2,'Bungalow',inplace=True)\n",
    "# df['buildingType'].replace(3,'Tower and Plate',inplace=True)\n",
    "# df['buildingType'].replace(4,'Plate',inplace=True)"
   ]
  },
  {
   "cell_type": "code",
   "execution_count": 14,
   "metadata": {},
   "outputs": [
    {
     "data": {
      "text/plain": [
       "Lng                    0\n",
       "Lat                    0\n",
       "tradeTime              0\n",
       "followers              0\n",
       "totalPrice             0\n",
       "price                  0\n",
       "square                 0\n",
       "livingRoom             0\n",
       "drawingRoom            0\n",
       "kitchen                0\n",
       "bathRoom               0\n",
       "buildingType           0\n",
       "constructionTime       0\n",
       "renovationCondition    0\n",
       "buildingStructure      0\n",
       "ladderRatio            0\n",
       "elevator               0\n",
       "fiveYearsProperty      0\n",
       "subway                 0\n",
       "district               0\n",
       "communityAverage       0\n",
       "distance               0\n",
       "age                    0\n",
       "month                  0\n",
       "floorType              0\n",
       "floorHeight            0\n",
       "dtype: int64"
      ]
     },
     "execution_count": 14,
     "metadata": {},
     "output_type": "execute_result"
    }
   ],
   "source": [
    "df.isnull().sum()"
   ]
  },
  {
   "cell_type": "code",
   "execution_count": null,
   "metadata": {},
   "outputs": [],
   "source": [
    "# Get columns with int64 dtype\n",
    "int_columns = df.select_dtypes(include=['int64', 'int32']).columns\n",
    "\n",
    "# Convert int64 to float64\n",
    "df[int_columns] = df[int_columns].astype('float64')\n",
    "\n",
    "# Verify conversion\n",
    "print(\"Column dtypes after conversion:\")\n",
    "print(df.dtypes)"
   ]
  },
  {
   "cell_type": "code",
   "execution_count": 16,
   "metadata": {},
   "outputs": [
    {
     "name": "stdout",
     "output_type": "stream",
     "text": [
      "Lng\n",
      "116.072514 116.711337\n",
      "116.42208601005404\n",
      "------------------------\n",
      "Lat\n",
      "39.62703 40.252758\n",
      "39.95320361310766\n",
      "------------------------\n",
      "tradeTime\n",
      "2012-01-01 00:00:00 2018-01-28 00:00:00\n",
      "2015-06-10 14:45:40.408735232\n",
      "------------------------\n",
      "followers\n",
      "0.0 1143.0\n",
      "18.216283392008545\n",
      "------------------------\n",
      "totalPrice\n",
      "0.1 4900.0\n",
      "351.37970233303525\n",
      "------------------------\n",
      "price\n",
      "1.0 150000.0\n",
      "43453.335012594456\n",
      "------------------------\n",
      "square\n",
      "7.8 640.0\n",
      "83.71239476486018\n",
      "------------------------\n",
      "livingRoom\n",
      "0.0 8.0\n",
      "2.0199841966441983\n",
      "------------------------\n",
      "drawingRoom\n",
      "0.0 5.0\n",
      "1.181215522901882\n",
      "------------------------\n",
      "kitchen\n",
      "0.0 3.0\n",
      "0.9957857717861873\n",
      "------------------------\n",
      "bathRoom\n",
      "0.0 7.0\n",
      "1.189721883196136\n",
      "------------------------\n",
      "buildingType\n",
      "1.0 4.0\n",
      "3.0370562725596613\n",
      "------------------------\n",
      "constructionTime\n",
      "1950.0 2016.0\n",
      "1999.6044190040918\n",
      "------------------------\n",
      "renovationCondition\n",
      "1.0 4.0\n",
      "2.6631436806980187\n",
      "------------------------\n",
      "buildingStructure\n",
      "1.0 6.0\n",
      "4.462062671805849\n",
      "------------------------\n",
      "ladderRatio\n",
      "0.014 10009400.0\n",
      "74.6500850302156\n",
      "------------------------\n",
      "elevator\n",
      "0.0 1.0\n",
      "0.576251191743674\n",
      "------------------------\n",
      "fiveYearsProperty\n",
      "0.0 1.0\n",
      "0.646090153322229\n",
      "------------------------\n",
      "subway\n",
      "0.0 1.0\n",
      "0.5919766436788432\n",
      "------------------------\n",
      "district\n",
      "1.0 13.0\n",
      "6.507565949332809\n",
      "------------------------\n",
      "communityAverage\n",
      "10847.0 183109.0\n",
      "60946.13051865427\n",
      "------------------------\n",
      "distance\n",
      "0.12382205857862663 43.15436076810403\n",
      "13.443779405704301\n",
      "------------------------\n",
      "age\n",
      "9.0 75.0\n",
      "25.39558099590819\n",
      "------------------------\n",
      "month\n",
      "24145.0 24217.0\n",
      "24185.782384822844\n",
      "------------------------\n",
      "floorType\n",
      "-1.0 4.0\n",
      "2.0847186001046136\n",
      "------------------------\n",
      "floorHeight\n",
      "1.0 63.0\n",
      "13.136925319869567\n",
      "------------------------\n"
     ]
    }
   ],
   "source": [
    "for col in df.columns:\n",
    "    print(col)\n",
    "    print(df[col].min(), df[col].max())\n",
    "    print(df[col].mean())\n",
    "    print('------------------------')"
   ]
  },
  {
   "cell_type": "markdown",
   "metadata": {},
   "source": [
    "remove outliers"
   ]
  },
  {
   "cell_type": "code",
   "execution_count": 17,
   "metadata": {},
   "outputs": [
    {
     "name": "stdout",
     "output_type": "stream",
     "text": [
      "before:  269563\n",
      "lower:  60.44445327009297\n",
      "upper:  1483.4854709865958\n",
      "after:  267612\n",
      "--------------------------\n",
      "before:  267612\n",
      "lower:  18235.166638101764\n",
      "upper:  100989.37169397065\n",
      "after:  249138\n",
      "--------------------------\n",
      "before:  249138\n",
      "lower:  41.33615442495492\n",
      "upper:  167.164401755236\n",
      "after:  233989\n",
      "--------------------------\n",
      "before:  233989\n",
      "lower:  36482.04638107836\n",
      "upper:  103738.07234712612\n",
      "after:  220094\n",
      "--------------------------\n"
     ]
    }
   ],
   "source": [
    "from scipy import stats\n",
    "\n",
    "\n",
    "def remove_outliers_fitted(df, col: str):\n",
    "    shape, loc, scale = stats.invgauss.fit(df[col], floc=0)\n",
    "    \n",
    "    lower = stats.invgauss.ppf(0.01, shape, loc, scale)\n",
    "    upper = stats.invgauss.ppf(0.99, shape, loc, scale)\n",
    "    print(\"lower: \", lower)\n",
    "    print(\"upper: \", upper)\n",
    "    \n",
    "    df_filtered = df[(df[col] >= lower) & (df[col] <= upper)]\n",
    "    return df_filtered\n",
    "\n",
    "\n",
    "cols = [\"totalPrice\", \"price\", \"square\", \"communityAverage\"]\n",
    "for col in cols:\n",
    "    print(\"before: \", len(df))\n",
    "    df = remove_outliers_fitted(df, col)\n",
    "    print(\"after: \", len(df))\n",
    "    print(\"--------------------------\")\n"
   ]
  },
  {
   "cell_type": "code",
   "execution_count": 18,
   "metadata": {},
   "outputs": [
    {
     "data": {
      "image/png": "[encoded data removed]",
      "text/plain": [
       "<Figure size 1400x600 with 2 Axes>"
      ]
     },
     "metadata": {},
     "output_type": "display_data"
    }
   ],
   "source": [
    "def plot_kde_distributions(\n",
    "        df: pd.DataFrame,\n",
    "        columns: list,\n",
    "        bw_adjust: float = 0.3, \n",
    "        figsize: tuple = (14, 6)\n",
    "    ) -> None:\n",
    "    for i in range(0, len(columns), 2):\n",
    "        plt.figure(figsize=figsize)\n",
    "        \n",
    "        # First subplot\n",
    "        plt.subplot(1, 2, 1)\n",
    "        sns.kdeplot(data=df, x=columns[i], bw_adjust=bw_adjust, fill=True)\n",
    "        plt.title(f'{columns[i]} Distribution (KDE)')\n",
    "        plt.xlabel(columns[i])\n",
    "        print(df[columns[i]].min())\n",
    "        print(df[columns[i]].max())\n",
    "        \n",
    "        # Second subplot (if available)\n",
    "        if i + 1 < len(columns):\n",
    "            plt.subplot(1, 2, 2)\n",
    "            sns.kdeplot(data=df, x=columns[i+1], bw_adjust=bw_adjust, fill=True)\n",
    "            plt.title(f'{columns[i+1]} Distribution (KDE)')\n",
    "            plt.xlabel(columns[i+1])\n",
    "            print(df[columns[i+1]].min())\n",
    "            print(df[columns[i+1]].max())\n",
    "        \n",
    "        plt.tight_layout()\n",
    "        plt.show()"
   ]
  },
  {
   "cell_type": "code",
   "execution_count": null,
   "metadata": {},
   "outputs": [],
   "source": [
    "columns_to_plot = [\"totalPrice\", \"price\", \"square\", \"communityAverage\"]\n",
    "plot_kde_distributions(df, columns_to_plot)"
   ]
  },
  {
   "cell_type": "code",
   "execution_count": 19,
   "metadata": {},
   "outputs": [
    {
     "data": {
      "text/plain": [
       "(77.5, 1480.0)"
      ]
     },
     "execution_count": 19,
     "metadata": {},
     "output_type": "execute_result"
    }
   ],
   "source": [
    "df[\"totalPrice\"].min(), df[\"totalPrice\"].max()"
   ]
  },
  {
   "cell_type": "code",
   "execution_count": 20,
   "metadata": {},
   "outputs": [
    {
     "data": {
      "text/plain": [
       "(18236.0, 100986.0)"
      ]
     },
     "execution_count": 20,
     "metadata": {},
     "output_type": "execute_result"
    }
   ],
   "source": [
    "df[\"price\"].min(), df[\"price\"].max()"
   ]
  },
  {
   "cell_type": "code",
   "execution_count": 22,
   "metadata": {},
   "outputs": [
    {
     "data": {
      "text/plain": [
       "(41.34, 167.15)"
      ]
     },
     "execution_count": 22,
     "metadata": {},
     "output_type": "execute_result"
    }
   ],
   "source": [
    "df[\"square\"].min(), df[\"square\"].max()"
   ]
  },
  {
   "cell_type": "code",
   "execution_count": 23,
   "metadata": {},
   "outputs": [
    {
     "data": {
      "text/plain": [
       "(36508.0, 103730.0)"
      ]
     },
     "execution_count": 23,
     "metadata": {},
     "output_type": "execute_result"
    }
   ],
   "source": [
    "df[\"communityAverage\"].min(), df[\"communityAverage\"].max()"
   ]
  },
  {
   "cell_type": "code",
   "execution_count": 24,
   "metadata": {},
   "outputs": [],
   "source": [
    "df.reset_index(inplace=True)\n",
    "df.drop(['index'],axis=1,inplace=True)"
   ]
  },
  {
   "cell_type": "code",
   "execution_count": 25,
   "metadata": {},
   "outputs": [],
   "source": [
    "saved_path = \"../../Datasets/Beijing_House_Price_Dataset/processed_beijing.csv\"\n",
    "df.to_csv(saved_path, index=False)"
   ]
  }
 ],
 "metadata": {
  "kernelspec": {
   "display_name": "base",
   "language": "python",
   "name": "python3"
  },
  "language_info": {
   "codemirror_mode": {
    "name": "ipython",
    "version": 3
   },
   "file_extension": ".py",
   "mimetype": "text/x-python",
   "name": "python",
   "nbconvert_exporter": "python",
   "pygments_lexer": "ipython3",
   "version": "3.11.5"
  }
 },
 "nbformat": 4,
 "nbformat_minor": 2
}
