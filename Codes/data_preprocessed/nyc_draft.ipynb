{
 "cells": [
  {
   "cell_type": "code",
   "execution_count": 1,
   "metadata": {},
   "outputs": [],
   "source": [
    "import pandas as pd\n",
    "import numpy as np"
   ]
  },
  {
   "cell_type": "code",
   "execution_count": 2,
   "metadata": {},
   "outputs": [],
   "source": [
    "path = \"/Users/gunneo/Downloads/MORTGAGE30US.csv\"\n",
    "df = pd.read_csv(path)"
   ]
  },
  {
   "cell_type": "code",
   "execution_count": 3,
   "metadata": {},
   "outputs": [],
   "source": [
    "df[\"observation_date\"] = pd.to_datetime(df[\"observation_date\"])\n",
    "df[\"month\"] = df[\"observation_date\"].dt.year * 12 + df[\"observation_date\"].dt.month\n",
    "df.drop(columns=[\"observation_date\"], inplace=True)"
   ]
  },
  {
   "cell_type": "code",
   "execution_count": 4,
   "metadata": {},
   "outputs": [],
   "source": [
    "start = 2003 * 12 + 1\n",
    "end = 2015 * 12 + 12\n",
    "df = df[(df[\"month\"] >= start) & (df[\"month\"] <= end)]\n",
    "df = df.reset_index(drop=True)"
   ]
  },
  {
   "cell_type": "code",
   "execution_count": 5,
   "metadata": {},
   "outputs": [],
   "source": [
    "df.to_csv(\"/Users/gunneo/Documents/4_2/Graduation_Thesis/Datasets/NYC_House_Price_Dataset/ingred/MORTGAGE.csv\", index=False)"
   ]
  },
  {
   "cell_type": "code",
   "execution_count": 6,
   "metadata": {},
   "outputs": [
    {
     "data": {
      "text/plain": [
       "156"
      ]
     },
     "execution_count": 6,
     "metadata": {},
     "output_type": "execute_result"
    }
   ],
   "source": [
    "len(df[\"month\"].unique())"
   ]
  },
  {
   "cell_type": "code",
   "execution_count": 7,
   "metadata": {},
   "outputs": [],
   "source": [
    "path_1 = \"/Users/gunneo/Documents/4_2/Graduation_Thesis/Datasets/NYC_House_Price_Dataset/ingred/NYUR.csv\"\n",
    "df_1 = pd.read_csv(path_1)\n",
    "df_1[\"observation_date\"] = pd.to_datetime(df_1[\"observation_date\"])\n",
    "df_1[\"month\"] = df_1[\"observation_date\"].dt.year * 12 + df_1[\"observation_date\"].dt.month\n",
    "df_1.to_csv(\"/Users/gunneo/Documents/4_2/Graduation_Thesis/Datasets/NYC_House_Price_Dataset/ingred/NYUR.csv\", index=False)"
   ]
  },
  {
   "cell_type": "code",
   "execution_count": 8,
   "metadata": {},
   "outputs": [],
   "source": [
    "path_2 = \"/Users/gunneo/Documents/4_2/Graduation_Thesis/Datasets/NYC_House_Price_Dataset/ingred/NYNQGSP.csv\"\n",
    "df_2 = pd.read_csv(path_2)\n",
    "df_2[\"observation_date\"] = pd.to_datetime(df_2[\"observation_date\"])\n",
    "df_2[\"quarter\"] = df_2[\"observation_date\"].dt.year * 4 + df_2[\"observation_date\"].dt.month // 3 + 1\n",
    "df_2.to_csv(\"/Users/gunneo/Documents/4_2/Graduation_Thesis/Datasets/NYC_House_Price_Dataset/ingred/NYNQGSP.csv\", index=False)"
   ]
  }
 ],
 "metadata": {
  "kernelspec": {
   "display_name": "base",
   "language": "python",
   "name": "python3"
  },
  "language_info": {
   "codemirror_mode": {
    "name": "ipython",
    "version": 3
   },
   "file_extension": ".py",
   "mimetype": "text/x-python",
   "name": "python",
   "nbconvert_exporter": "python",
   "pygments_lexer": "ipython3",
   "version": "3.11.5"
  }
 },
 "nbformat": 4,
 "nbformat_minor": 2
}
