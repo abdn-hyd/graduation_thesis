{
 "cells": [
  {
   "cell_type": "markdown",
   "metadata": {},
   "source": [
    "# 1. Load the dataset"
   ]
  },
  {
   "cell_type": "code",
   "execution_count": 1,
   "metadata": {},
   "outputs": [],
   "source": [
    "from torch.utils import data\n",
    "from ST_dataloader import ST_dataloader\n",
    "import os\n",
    "import torch\n",
    "import torch.nn as nn\n",
    "from torch.optim import Adam, SGD, RMSprop, Adagrad\n",
    "import matplotlib.pyplot as plt"
   ]
  },
  {
   "cell_type": "code",
   "execution_count": 2,
   "metadata": {},
   "outputs": [],
   "source": [
    "def inverse_normalize(normalized, min_val, max_val):\n",
    "    return ((normalized + 1) / 2) * (max_val - min_val) + min_val"
   ]
  },
  {
   "cell_type": "code",
   "execution_count": 3,
   "metadata": {},
   "outputs": [
    {
     "name": "stdout",
     "output_type": "stream",
     "text": [
      "200 200 9 torch.Size([1, 200, 200])\n"
     ]
    }
   ],
   "source": [
    "train_dataset = ST_dataloader(\n",
    "        name=[\"long_term.npy\", \"short_term.npy\", \"ingredients.npy\", \"future.npy\", \"label.npy\", \"mask.npy\"],\n",
    "        root=\"../../Datasets/NYC_House_Price_Dataset/ST/train\",\n",
    "        transaction_cnt=False,\n",
    "    )\n",
    "train_dataloader = data.DataLoader(train_dataset, batch_size=8, shuffle=True)\n",
    "img_h = train_dataloader.dataset[0][0].shape[-2]\n",
    "img_w = train_dataloader.dataset[0][0].shape[-1]\n",
    "cur_ingred_dim = train_dataloader.dataset[0][2].shape[1]\n",
    "label_shape = train_dataloader.dataset[0][5].shape\n",
    "\n",
    "print(img_h, img_w, cur_ingred_dim, label_shape)"
   ]
  },
  {
   "cell_type": "markdown",
   "metadata": {},
   "source": [
    "# 2. Initialize the model"
   ]
  },
  {
   "cell_type": "code",
   "execution_count": 4,
   "metadata": {},
   "outputs": [],
   "source": [
    "from model import ST_MMN"
   ]
  },
  {
   "cell_type": "code",
   "execution_count": 5,
   "metadata": {},
   "outputs": [],
   "source": [
    "train_model = ST_MMN(\n",
    "    img_h = img_h,\n",
    "    img_w = img_w,\n",
    "    branches = [0, 1, 2],\n",
    "    long_num_layers=2,\n",
    "    long_frame_size = (img_h, img_w),\n",
    "    short_num_layers=2,\n",
    "    short_frame_size = (img_h, img_w),\n",
    "    cur_ingred_dim = cur_ingred_dim,\n",
    "    modalities = 3,\n",
    "    indexs = [0, 1]\n",
    ")"
   ]
  },
  {
   "cell_type": "code",
   "execution_count": 6,
   "metadata": {},
   "outputs": [],
   "source": [
    "# test_input = [torch.randn(16, 1, 2, 50, 50), torch.randn(16, 1, 12, 50, 50), torch.randn(16, 1, 9, 50, 50)]\n",
    "# out = train_model(test_input)\n",
    "# print(out.shape)"
   ]
  },
  {
   "cell_type": "markdown",
   "metadata": {},
   "source": [
    "# 3. Train the model"
   ]
  },
  {
   "cell_type": "code",
   "execution_count": 6,
   "metadata": {},
   "outputs": [],
   "source": [
    "def rmse_loss(pred, target, mask):\n",
    "    mse = nn.MSELoss()\n",
    "    pred = pred[mask == 1]\n",
    "    target = target[mask == 1]\n",
    "    return torch.sqrt(mse(pred, target))\n",
    "\n",
    "def train(\n",
    "        model,\n",
    "        train_dataloader,\n",
    "        w_path,\n",
    "        num_epochs=50,\n",
    "        optimizer_type='adam',\n",
    "        lr=5e-4,\n",
    "        input_indices=[0, 1, 2, 3],\n",
    "        patience=5,\n",
    "        save_interval=25,\n",
    "        loss_threshold=1e-4\n",
    "        ):\n",
    "    device = torch.device('cuda' if torch.cuda.is_available() else 'cpu')\n",
    "    model = model.to(device)\n",
    "    loss_history = []\n",
    "        \n",
    "    optimizers = {\n",
    "        'adam': Adam(model.parameters(), lr=lr),\n",
    "        'sgd': SGD(model.parameters(), lr=lr, momentum=0.9),\n",
    "        'rmsprop': RMSprop(model.parameters(), lr=lr),\n",
    "        'adagrad': Adagrad(model.parameters(), lr=lr)\n",
    "    }\n",
    "    if optimizer_type not in optimizers:\n",
    "        raise ValueError(\"Unsupported optimizer type\")\n",
    "    optimizer = optimizers[optimizer_type]\n",
    "\n",
    "    best_model_path = os.path.join(w_path, \"best_model.pth\")\n",
    "    best_loss = float('inf')\n",
    "    no_improve = 0\n",
    "\n",
    "    for epoch in range(num_epochs):\n",
    "        model.train()\n",
    "        epoch_train_loss = 0.0\n",
    "        \n",
    "        for batch in train_dataloader:\n",
    "            inputs = [batch[i].to(device) for i in input_indices]\n",
    "            labels = batch[-2].to(device)\n",
    "            mask = batch[-1].to(device)\n",
    "            optimizer.zero_grad()\n",
    "            outputs = model(inputs)\n",
    "            loss = rmse_loss(outputs, labels, mask)\n",
    "            loss.backward()\n",
    "            optimizer.step()\n",
    "            \n",
    "            epoch_train_loss += loss.item() * labels.size(0)\n",
    "        \n",
    "        epoch_train_loss /= len(train_dataloader.dataset)\n",
    "        loss_history.append(epoch_train_loss)\n",
    "        print(f\"Epoch [{epoch+1}/{num_epochs}] Train Loss: {epoch_train_loss:.4f}\")\n",
    "\n",
    "        if epoch_train_loss < best_loss - loss_threshold:\n",
    "            best_loss = epoch_train_loss\n",
    "            torch.save(model.state_dict(), best_model_path)\n",
    "            print(f\"Best model saved to {best_model_path} with loss {best_loss:.4f}\")\n",
    "            no_improve = 0\n",
    "        else:\n",
    "            no_improve += 1\n",
    "            print(f\"No improvement for {no_improve}/{patience} epochs\")\n",
    "            if no_improve > patience:\n",
    "                print(f\"Early stopping at epoch {epoch+1}\")\n",
    "                break\n",
    "\n",
    "        if save_interval > 0 and (epoch + 1) % save_interval == 0:\n",
    "            checkpoint_path = os.path.join(w_path, f\"checkpoint_{epoch+1}.pth\")\n",
    "            torch.save(model.state_dict(), checkpoint_path)\n",
    "            print(f\"Checkpoint saved at {checkpoint_path}\")\n",
    "    \n",
    "    plt.figure(figsize=(10, 6))\n",
    "    plt.plot(range(1, len(loss_history) + 1), loss_history, 'b-')\n",
    "    plt.title('Training Loss Over Epochs')\n",
    "    plt.xlabel('Epoch')\n",
    "    plt.ylabel('Loss')\n",
    "    plt.grid(True)\n",
    "    plt.show()\n",
    "\n",
    "    print(\"Training complete.\")"
   ]
  },
  {
   "cell_type": "code",
   "execution_count": 7,
   "metadata": {},
   "outputs": [
    {
     "name": "stdout",
     "output_type": "stream",
     "text": [
      "Epoch [1/500] Train Loss: 0.1950\n",
      "Best model saved to ../../Datasets/NYC_House_Price_Dataset/ST/train_weights/best_model.pth with loss 0.1950\n",
      "Epoch [2/500] Train Loss: 0.0742\n",
      "Best model saved to ../../Datasets/NYC_House_Price_Dataset/ST/train_weights/best_model.pth with loss 0.0742\n",
      "Epoch [3/500] Train Loss: 0.0740\n",
      "Best model saved to ../../Datasets/NYC_House_Price_Dataset/ST/train_weights/best_model.pth with loss 0.0740\n",
      "Epoch [4/500] Train Loss: 0.0746\n",
      "No improvement for 1/10 epochs\n",
      "Epoch [5/500] Train Loss: 0.0743\n",
      "No improvement for 2/10 epochs\n",
      "Epoch [6/500] Train Loss: 0.0741\n",
      "No improvement for 3/10 epochs\n",
      "Epoch [7/500] Train Loss: 0.0736\n",
      "Best model saved to ../../Datasets/NYC_House_Price_Dataset/ST/train_weights/best_model.pth with loss 0.0736\n",
      "Epoch [8/500] Train Loss: 0.0726\n",
      "Best model saved to ../../Datasets/NYC_House_Price_Dataset/ST/train_weights/best_model.pth with loss 0.0726\n",
      "Epoch [9/500] Train Loss: 0.0714\n",
      "Best model saved to ../../Datasets/NYC_House_Price_Dataset/ST/train_weights/best_model.pth with loss 0.0714\n",
      "Epoch [10/500] Train Loss: 0.0701\n",
      "Best model saved to ../../Datasets/NYC_House_Price_Dataset/ST/train_weights/best_model.pth with loss 0.0701\n",
      "Epoch [11/500] Train Loss: 0.0689\n",
      "Best model saved to ../../Datasets/NYC_House_Price_Dataset/ST/train_weights/best_model.pth with loss 0.0689\n",
      "Epoch [12/500] Train Loss: 0.0678\n",
      "Best model saved to ../../Datasets/NYC_House_Price_Dataset/ST/train_weights/best_model.pth with loss 0.0678\n",
      "Epoch [13/500] Train Loss: 0.0669\n",
      "Best model saved to ../../Datasets/NYC_House_Price_Dataset/ST/train_weights/best_model.pth with loss 0.0669\n",
      "Epoch [14/500] Train Loss: 0.0661\n",
      "Best model saved to ../../Datasets/NYC_House_Price_Dataset/ST/train_weights/best_model.pth with loss 0.0661\n",
      "Epoch [15/500] Train Loss: 0.0654\n",
      "Best model saved to ../../Datasets/NYC_House_Price_Dataset/ST/train_weights/best_model.pth with loss 0.0654\n",
      "Epoch [16/500] Train Loss: 0.0648\n",
      "Best model saved to ../../Datasets/NYC_House_Price_Dataset/ST/train_weights/best_model.pth with loss 0.0648\n",
      "Epoch [17/500] Train Loss: 0.0643\n",
      "Best model saved to ../../Datasets/NYC_House_Price_Dataset/ST/train_weights/best_model.pth with loss 0.0643\n",
      "Epoch [18/500] Train Loss: 0.0638\n",
      "Best model saved to ../../Datasets/NYC_House_Price_Dataset/ST/train_weights/best_model.pth with loss 0.0638\n",
      "Epoch [19/500] Train Loss: 0.0633\n",
      "Best model saved to ../../Datasets/NYC_House_Price_Dataset/ST/train_weights/best_model.pth with loss 0.0633\n",
      "Epoch [20/500] Train Loss: 0.0629\n",
      "Best model saved to ../../Datasets/NYC_House_Price_Dataset/ST/train_weights/best_model.pth with loss 0.0629\n",
      "Epoch [21/500] Train Loss: 0.0626\n",
      "Best model saved to ../../Datasets/NYC_House_Price_Dataset/ST/train_weights/best_model.pth with loss 0.0626\n",
      "Epoch [22/500] Train Loss: 0.0622\n",
      "Best model saved to ../../Datasets/NYC_House_Price_Dataset/ST/train_weights/best_model.pth with loss 0.0622\n",
      "Epoch [23/500] Train Loss: 0.0619\n",
      "Best model saved to ../../Datasets/NYC_House_Price_Dataset/ST/train_weights/best_model.pth with loss 0.0619\n",
      "Epoch [24/500] Train Loss: 0.0617\n",
      "Best model saved to ../../Datasets/NYC_House_Price_Dataset/ST/train_weights/best_model.pth with loss 0.0617\n",
      "Epoch [25/500] Train Loss: 0.0615\n",
      "Best model saved to ../../Datasets/NYC_House_Price_Dataset/ST/train_weights/best_model.pth with loss 0.0615\n",
      "Checkpoint saved at ../../Datasets/NYC_House_Price_Dataset/ST/train_weights/checkpoint_25.pth\n",
      "Epoch [26/500] Train Loss: 0.0613\n",
      "Best model saved to ../../Datasets/NYC_House_Price_Dataset/ST/train_weights/best_model.pth with loss 0.0613\n",
      "Epoch [27/500] Train Loss: 0.0611\n",
      "Best model saved to ../../Datasets/NYC_House_Price_Dataset/ST/train_weights/best_model.pth with loss 0.0611\n",
      "Epoch [28/500] Train Loss: 0.0609\n",
      "Best model saved to ../../Datasets/NYC_House_Price_Dataset/ST/train_weights/best_model.pth with loss 0.0609\n",
      "Epoch [29/500] Train Loss: 0.0608\n",
      "No improvement for 1/10 epochs\n",
      "Epoch [30/500] Train Loss: 0.0607\n",
      "Best model saved to ../../Datasets/NYC_House_Price_Dataset/ST/train_weights/best_model.pth with loss 0.0607\n",
      "Epoch [31/500] Train Loss: 0.0607\n",
      "No improvement for 1/10 epochs\n",
      "Epoch [32/500] Train Loss: 0.0606\n",
      "Best model saved to ../../Datasets/NYC_House_Price_Dataset/ST/train_weights/best_model.pth with loss 0.0606\n",
      "Epoch [33/500] Train Loss: 0.0605\n",
      "No improvement for 1/10 epochs\n",
      "Epoch [34/500] Train Loss: 0.0605\n",
      "Best model saved to ../../Datasets/NYC_House_Price_Dataset/ST/train_weights/best_model.pth with loss 0.0605\n",
      "Epoch [35/500] Train Loss: 0.0604\n",
      "No improvement for 1/10 epochs\n",
      "Epoch [36/500] Train Loss: 0.0603\n",
      "Best model saved to ../../Datasets/NYC_House_Price_Dataset/ST/train_weights/best_model.pth with loss 0.0603\n",
      "Epoch [37/500] Train Loss: 0.0603\n",
      "No improvement for 1/10 epochs\n",
      "Epoch [38/500] Train Loss: 0.0602\n",
      "No improvement for 2/10 epochs\n",
      "Epoch [39/500] Train Loss: 0.0602\n",
      "Best model saved to ../../Datasets/NYC_House_Price_Dataset/ST/train_weights/best_model.pth with loss 0.0602\n",
      "Epoch [40/500] Train Loss: 0.0601\n",
      "No improvement for 1/10 epochs\n",
      "Epoch [41/500] Train Loss: 0.0601\n",
      "No improvement for 2/10 epochs\n",
      "Epoch [44/500] Train Loss: 0.0599\n",
      "No improvement for 2/10 epochs\n",
      "Epoch [45/500] Train Loss: 0.0598\n",
      "Best model saved to ../../Datasets/NYC_House_Price_Dataset/ST/train_weights/best_model.pth with loss 0.0598\n",
      "Epoch [46/500] Train Loss: 0.0596\n",
      "Best model saved to ../../Datasets/NYC_House_Price_Dataset/ST/train_weights/best_model.pth with loss 0.0596\n",
      "Epoch [47/500] Train Loss: 0.0597\n",
      "No improvement for 1/10 epochs\n",
      "Epoch [48/500] Train Loss: 0.0596\n",
      "No improvement for 2/10 epochs\n",
      "Epoch [49/500] Train Loss: 0.0594\n",
      "Best model saved to ../../Datasets/NYC_House_Price_Dataset/ST/train_weights/best_model.pth with loss 0.0594\n",
      "Epoch [50/500] Train Loss: 0.0594\n",
      "No improvement for 1/10 epochs\n",
      "Checkpoint saved at ../../Datasets/NYC_House_Price_Dataset/ST/train_weights/checkpoint_50.pth\n",
      "Epoch [51/500] Train Loss: 0.0592\n",
      "Best model saved to ../../Datasets/NYC_House_Price_Dataset/ST/train_weights/best_model.pth with loss 0.0592\n",
      "Epoch [52/500] Train Loss: 0.0591\n",
      "Best model saved to ../../Datasets/NYC_House_Price_Dataset/ST/train_weights/best_model.pth with loss 0.0591\n",
      "Epoch [53/500] Train Loss: 0.0592\n",
      "No improvement for 1/10 epochs\n",
      "Epoch [54/500] Train Loss: 0.0589\n",
      "Best model saved to ../../Datasets/NYC_House_Price_Dataset/ST/train_weights/best_model.pth with loss 0.0589\n",
      "Epoch [55/500] Train Loss: 0.0588\n",
      "No improvement for 1/10 epochs\n",
      "Epoch [56/500] Train Loss: 0.0589\n",
      "No improvement for 2/10 epochs\n",
      "Epoch [57/500] Train Loss: 0.0589\n",
      "No improvement for 3/10 epochs\n",
      "Epoch [58/500] Train Loss: 0.0588\n",
      "No improvement for 4/10 epochs\n",
      "Epoch [59/500] Train Loss: 0.0587\n",
      "Best model saved to ../../Datasets/NYC_House_Price_Dataset/ST/train_weights/best_model.pth with loss 0.0587\n",
      "Epoch [60/500] Train Loss: 0.0588\n",
      "No improvement for 1/10 epochs\n",
      "Epoch [61/500] Train Loss: 0.0587\n",
      "No improvement for 2/10 epochs\n",
      "Epoch [62/500] Train Loss: 0.0587\n",
      "No improvement for 3/10 epochs\n",
      "Epoch [63/500] Train Loss: 0.0586\n",
      "No improvement for 4/10 epochs\n",
      "Epoch [64/500] Train Loss: 0.0588\n",
      "No improvement for 5/10 epochs\n",
      "Epoch [65/500] Train Loss: 0.0586\n",
      "No improvement for 6/10 epochs\n",
      "Epoch [66/500] Train Loss: 0.0585\n",
      "Best model saved to ../../Datasets/NYC_House_Price_Dataset/ST/train_weights/best_model.pth with loss 0.0585\n",
      "Epoch [67/500] Train Loss: 0.0585\n",
      "No improvement for 1/10 epochs\n",
      "Epoch [70/500] Train Loss: 0.0586\n",
      "No improvement for 4/10 epochs\n",
      "Epoch [71/500] Train Loss: 0.0585\n",
      "No improvement for 5/10 epochs\n",
      "Epoch [72/500] Train Loss: 0.0587\n",
      "No improvement for 6/10 epochs\n",
      "Epoch [73/500] Train Loss: 0.0587\n",
      "No improvement for 7/10 epochs\n",
      "Epoch [74/500] Train Loss: 0.0584\n",
      "Best model saved to ../../Datasets/NYC_House_Price_Dataset/ST/train_weights/best_model.pth with loss 0.0584\n",
      "Epoch [75/500] Train Loss: 0.0585\n",
      "No improvement for 1/10 epochs\n",
      "Checkpoint saved at ../../Datasets/NYC_House_Price_Dataset/ST/train_weights/checkpoint_75.pth\n",
      "Epoch [76/500] Train Loss: 0.0585\n",
      "No improvement for 2/10 epochs\n",
      "Epoch [77/500] Train Loss: 0.0586\n",
      "No improvement for 3/10 epochs\n",
      "Epoch [78/500] Train Loss: 0.0585\n",
      "No improvement for 4/10 epochs\n",
      "Epoch [79/500] Train Loss: 0.0585\n",
      "No improvement for 5/10 epochs\n",
      "Epoch [80/500] Train Loss: 0.0586\n",
      "No improvement for 6/10 epochs\n",
      "Epoch [81/500] Train Loss: 0.0585\n",
      "No improvement for 7/10 epochs\n",
      "Epoch [82/500] Train Loss: 0.0584\n",
      "No improvement for 8/10 epochs\n",
      "Epoch [83/500] Train Loss: 0.0584\n",
      "No improvement for 9/10 epochs\n",
      "Epoch [84/500] Train Loss: 0.0584\n",
      "No improvement for 10/10 epochs\n",
      "Epoch [85/500] Train Loss: 0.0584\n",
      "No improvement for 11/10 epochs\n",
      "Early stopping at epoch 85\n"
     ]
    },
    {
     "data": {
      "image/png": "[encoded data removed]",
      "text/plain": [
       "<Figure size 1000x600 with 1 Axes>"
      ]
     },
     "metadata": {},
     "output_type": "display_data"
    },
    {
     "name": "stdout",
     "output_type": "stream",
     "text": [
      "Training complete.\n"
     ]
    }
   ],
   "source": [
    "train(\n",
    "    train_model,\n",
    "    train_dataloader,\n",
    "    w_path=\"../../Datasets/NYC_House_Price_Dataset/ST/train_weights/\",\n",
    "    num_epochs=500,\n",
    "    optimizer_type='adam',\n",
    "    lr=5e-3,\n",
    "    input_indices=[0, 1, 2],\n",
    "    patience=5,\n",
    "    save_interval=25,\n",
    "    loss_threshold=1e-4\n",
    ")"
   ]
  },
  {
   "cell_type": "markdown",
   "metadata": {},
   "source": [
    "# 4. Test the model"
   ]
  },
  {
   "cell_type": "code",
   "execution_count": 13,
   "metadata": {},
   "outputs": [],
   "source": [
    "test_dataset = ST_dataloader(\n",
    "        name=[\"long_term.npy\", \"short_term.npy\", \"ingredients.npy\", \"future.npy\", \"label.npy\", \"mask.npy\"],\n",
    "        root=\"../../Datasets/NYC_House_Price_Dataset/ST/test\",\n",
    "        transaction_cnt=False,\n",
    "    )\n",
    "test_dataloader = data.DataLoader(test_dataset, batch_size=8, shuffle=False)\n",
    "test_global_min = test_dataset.global_min\n",
    "test_global_max = test_dataset.global_max"
   ]
  },
  {
   "cell_type": "code",
   "execution_count": 14,
   "metadata": {},
   "outputs": [],
   "source": [
    "test_model = ST_MMN(\n",
    "    img_h = img_h,\n",
    "    img_w = img_w,\n",
    "    branches = [0, 1, 2],\n",
    "    long_num_layers=2,\n",
    "    long_frame_size = (img_h, img_w),\n",
    "    short_num_layers=2,\n",
    "    short_frame_size = (img_h, img_w),\n",
    "    cur_ingred_dim = cur_ingred_dim,\n",
    "    modalities = 3,\n",
    "    indexs = [0, 1]\n",
    ")"
   ]
  },
  {
   "cell_type": "code",
   "execution_count": 15,
   "metadata": {},
   "outputs": [
    {
     "name": "stderr",
     "output_type": "stream",
     "text": [
      "/tmp/ipykernel_5602/2332579494.py:1: FutureWarning: You are using `torch.load` with `weights_only=False` (the current default value), which uses the default pickle module implicitly. It is possible to construct malicious pickle data which will execute arbitrary code during unpickling (See https://github.com/pytorch/pytorch/blob/main/SECURITY.md#untrusted-models for more details). In a future release, the default value for `weights_only` will be flipped to `True`. This limits the functions that could be executed during unpickling. Arbitrary objects will no longer be allowed to be loaded via this mode unless they are explicitly allowlisted by the user via `torch.serialization.add_safe_globals`. We recommend you start setting `weights_only=True` for any use case where you don't have full control of the loaded file. Please open an issue on GitHub for any issues related to this experimental feature.\n",
      "  test_model.load_state_dict(torch.load(\"../../Datasets/NYC_House_Price_Dataset/ST/train_weights/best_model.pth\"))\n"
     ]
    },
    {
     "data": {
      "text/plain": [
       "<All keys matched successfully>"
      ]
     },
     "execution_count": 15,
     "metadata": {},
     "output_type": "execute_result"
    }
   ],
   "source": [
    "test_model.load_state_dict(torch.load(\"../../Datasets/NYC_House_Price_Dataset/ST/train_weights/best_model.pth\"))"
   ]
  },
  {
   "cell_type": "code",
   "execution_count": 17,
   "metadata": {},
   "outputs": [],
   "source": [
    "def test(\n",
    "    test_model,\n",
    "    test_dataloader,\n",
    "    input_indexs = [0, 1, 2, 3]\n",
    "):\n",
    "    device = torch.device('cuda' if torch.cuda.is_available() else 'cpu')\n",
    "    test_model = test_model.to(device)\n",
    "    num_batches = 0\n",
    "    rmse_total = 0.0\n",
    "    conversion_rmse_total = 0.0\n",
    "    \n",
    "    with torch.no_grad():\n",
    "        for batch in test_dataloader:\n",
    "            inputs = [batch[i].to(device) for i in input_indexs]\n",
    "            labels = batch[-2].to(device)\n",
    "            mask = batch[-1].to(device)\n",
    "            \n",
    "            predictions = test_model(inputs)\n",
    "            rmse = rmse_loss(predictions, labels, mask)\n",
    "            rmse_total += rmse.item() * labels.size(0)\n",
    "            predictions = inverse_normalize(predictions, test_global_min[-1][0], test_global_max[-1][0])\n",
    "            labels = inverse_normalize(labels, test_global_min[-1][0], test_global_max[-1][0])\n",
    "            print(\"global min: \", test_global_min[-1][0])\n",
    "            print(\"global max: \", test_global_max[-1][0])\n",
    "            conversion_rmse = rmse_loss(predictions, labels, mask)\n",
    "            conversion_rmse_total += conversion_rmse.item() * labels.size(0)\n",
    "            num_batches += 1\n",
    "\n",
    "    average_rmse = rmse_total / len(test_dataloader.dataset)\n",
    "    average_conversion_rmse = conversion_rmse_total / len(test_dataloader.dataset)\n",
    "    \n",
    "    print(f\"Average RMSE: {average_rmse}\")\n",
    "    print(f\"Average Conversion RMSE: {average_conversion_rmse}\")"
   ]
  },
  {
   "cell_type": "code",
   "execution_count": 18,
   "metadata": {},
   "outputs": [
    {
     "name": "stdout",
     "output_type": "stream",
     "text": [
      "global min:  0.0\n",
      "global max:  7825000.0\n",
      "global min:  0.0\n",
      "global max:  7825000.0\n",
      "global min:  0.0\n",
      "global max:  7825000.0\n",
      "global min:  0.0\n",
      "global max:  7825000.0\n",
      "global min:  0.0\n",
      "global max:  7825000.0\n",
      "global min:  0.0\n",
      "global max:  7825000.0\n",
      "global min:  0.0\n",
      "global max:  7825000.0\n",
      "global min:  0.0\n",
      "global max:  7825000.0\n",
      "global min:  0.0\n",
      "global max:  7825000.0\n",
      "global min:  0.0\n",
      "global max:  7825000.0\n",
      "global min:  0.0\n",
      "global max:  7825000.0\n",
      "global min:  0.0\n",
      "global max:  7825000.0\n",
      "global min:  0.0\n",
      "global max:  7825000.0\n",
      "global min:  0.0\n",
      "global max:  7825000.0\n",
      "global min:  0.0\n",
      "global max:  7825000.0\n",
      "Average RMSE: 0.058325798603995095\n",
      "Average Conversion RMSE: 228199.6875\n"
     ]
    }
   ],
   "source": [
    "test(train_model, train_dataloader, input_indexs=[0, 1, 2])"
   ]
  },
  {
   "cell_type": "code",
   "execution_count": 16,
   "metadata": {},
   "outputs": [
    {
     "name": "stdout",
     "output_type": "stream",
     "text": [
      "without conversion: \n",
      "------------------------------------\n",
      "with conversion: \n",
      "global min:  0.0\n",
      "global max:  7825000.0\n",
      "without conversion: \n",
      "------------------------------------\n",
      "with conversion: \n",
      "global min:  0.0\n",
      "global max:  7825000.0\n",
      "Average RMSE: 0.08241728196541469\n",
      "Average Conversion RMSE: 322457.6041666667\n"
     ]
    }
   ],
   "source": [
    "test(test_model, test_dataloader, [0, 1, 2])"
   ]
  }
 ],
 "metadata": {
  "kernelspec": {
   "display_name": "Python 3 (ipykernel)",
   "language": "python",
   "name": "python3"
  },
  "language_info": {
   "codemirror_mode": {
    "name": "ipython",
    "version": 3
   },
   "file_extension": ".py",
   "mimetype": "text/x-python",
   "name": "python",
   "nbconvert_exporter": "python",
   "pygments_lexer": "ipython3",
   "version": "3.12.3"
  }
 },
 "nbformat": 4,
 "nbformat_minor": 4
}
